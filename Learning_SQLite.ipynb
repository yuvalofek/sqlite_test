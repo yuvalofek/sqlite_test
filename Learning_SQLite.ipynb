{
  "nbformat": 4,
  "nbformat_minor": 0,
  "metadata": {
    "colab": {
      "name": "Learning_SQLite.ipynb",
      "provenance": [],
      "authorship_tag": "ABX9TyOilkcgyA7EkXAYs9HVEX7N",
      "include_colab_link": true
    },
    "kernelspec": {
      "name": "python3",
      "display_name": "Python 3"
    },
    "language_info": {
      "name": "python"
    }
  },
  "cells": [
    {
      "cell_type": "markdown",
      "metadata": {
        "id": "view-in-github",
        "colab_type": "text"
      },
      "source": [
        "<a href=\"https://colab.research.google.com/github/yuvalofek/sqlite_test/blob/main/Learning_SQLite.ipynb\" target=\"_parent\"><img src=\"https://colab.research.google.com/assets/colab-badge.svg\" alt=\"Open In Colab\"/></a>"
      ]
    },
    {
      "cell_type": "markdown",
      "metadata": {
        "id": "FFBf9ApwNG6D"
      },
      "source": [
        "## Testing out sqlite and sqlite3 "
      ]
    },
    {
      "cell_type": "code",
      "metadata": {
        "id": "UWFa8QTWJiRO"
      },
      "source": [
        "import sqlite3\n",
        "from pprint import pprint"
      ],
      "execution_count": null,
      "outputs": []
    },
    {
      "cell_type": "code",
      "metadata": {
        "id": "ohndgmLdNQE4"
      },
      "source": [
        "# make a connection with the db\n",
        "conn = sqlite3.connect('learning_sql.db')\n",
        "c = conn.cursor()"
      ],
      "execution_count": null,
      "outputs": []
    },
    {
      "cell_type": "code",
      "metadata": {
        "id": "3GLV701-OXTw"
      },
      "source": [
        "def print_table(table, cursor):\n",
        "  \"\"\"\n",
        "  Handy function to quickly print a table (not ideal bc of SQL injection attacks,\n",
        "  but since I am just reading I let it go)\n",
        "  table (str): table name\n",
        "  \"\"\"\n",
        "\n",
        "  cmd = \"\"\"SELECT * FROM {};\n",
        "    \"\"\".format(table)\n",
        "  cursor.execute(cmd)\n",
        "\n",
        "  pprint(c.fetchall())"
      ],
      "execution_count": null,
      "outputs": []
    },
    {
      "cell_type": "code",
      "metadata": {
        "colab": {
          "base_uri": "https://localhost:8080/"
        },
        "id": "Wz7WEZYJJmZk",
        "outputId": "5864d979-0aa1-41ea-de41-244d202b6394"
      },
      "source": [
        "# creating a table\n",
        "c.execute(\"\"\"\n",
        "CREATE TABLE IF NOT EXISTS student (\n",
        "  student_id INT PRIMARY KEY, \n",
        "  name TEXT, \n",
        "  major TEXT\n",
        ");\n",
        "\"\"\")\n",
        "conn.commit()\n",
        "\n",
        "# seeing what is in the table\n",
        "print_table('student', c)\n"
      ],
      "execution_count": null,
      "outputs": [
        {
          "output_type": "stream",
          "name": "stdout",
          "text": [
            "[]\n"
          ]
        }
      ]
    },
    {
      "cell_type": "code",
      "metadata": {
        "colab": {
          "base_uri": "https://localhost:8080/"
        },
        "id": "CsUl7p7VOxBY",
        "outputId": "3aa5c7b1-5954-4d6f-83e1-d4464d3a1d7a"
      },
      "source": [
        "# inserting into table\n",
        "c.execute(\"\"\" INSERT INTO student VALUES {};\"\"\".format((0, 'Bob Dylan', 'Mathematics')))\n",
        "conn.commit()\n",
        "\n",
        "# seeing what is in the table\n",
        "print_table('student', c)\n",
        "\n",
        "# insert many into table\n",
        "c.executemany(\"\"\" INSERT INTO student VALUES (?,?,?); \"\"\", [(2, 'Jeremy Pierce', 'Robotics'), \n",
        "                                                   (1, 'James Ryan', 'Computer Science')])\n",
        "conn.commit()\n",
        "\n",
        "\n",
        "# seeing what is in the table\n",
        "print_table('student', c)\n"
      ],
      "execution_count": null,
      "outputs": [
        {
          "output_type": "stream",
          "name": "stdout",
          "text": [
            "[(0, 'Bob Dylan', 'Mathematics')]\n",
            "[(0, 'Bob Dylan', 'Mathematics'),\n",
            " (2, 'Jeremy Pierce', 'Robotics'),\n",
            " (1, 'James Ryan', 'Computer Science')]\n"
          ]
        }
      ]
    },
    {
      "cell_type": "code",
      "metadata": {
        "colab": {
          "base_uri": "https://localhost:8080/"
        },
        "id": "IR6alRvNLGXe",
        "outputId": "66c16db7-f0bc-4567-a7a2-69af6a29b7ad"
      },
      "source": [
        "# adding a  gpa column\n",
        "c.execute(\"\"\"ALTER TABLE student ADD gpa REAL;\"\"\")\n",
        "conn.commit()\n",
        "\n",
        "# seeing what is in the table\n",
        "print_table('student', c)\n"
      ],
      "execution_count": null,
      "outputs": [
        {
          "output_type": "stream",
          "name": "stdout",
          "text": [
            "[(0, 'Bob Dylan', 'Mathematics', None),\n",
            " (2, 'Jeremy Pierce', 'Robotics', None),\n",
            " (1, 'James Ryan', 'Computer Science', None)]\n"
          ]
        }
      ]
    },
    {
      "cell_type": "code",
      "metadata": {
        "colab": {
          "base_uri": "https://localhost:8080/"
        },
        "id": "iwQEIaTzPYPD",
        "outputId": "73a328a5-6ba6-45fd-e4cf-d70e7f438848"
      },
      "source": [
        "# Update a  gpa to all student using WHERE and IS NULL\n",
        "c.execute(\"\"\"UPDATE student\n",
        "          SET GPA = 2.5\n",
        "          WHERE GPA IS NULL;\"\"\")\n",
        "conn.commit()\n",
        "print_table('student', c)\n",
        "\n",
        "# update the gpa of student 0\n",
        "c.execute(\"\"\"UPDATE student\n",
        "          SET GPA = 2.1\n",
        "          WHERE student_id=0;\"\"\")\n",
        "conn.commit()\n",
        "print_table('student', c)\n",
        "\n",
        "# LIKE \n",
        "c.execute(\"\"\"UPDATE student\n",
        "          SET major = 'Comp Sci'\n",
        "          WHERE major LIKE '%Computer%'; \"\"\")\n",
        "conn.commit()\n",
        "print_table('student', c)\n"
      ],
      "execution_count": null,
      "outputs": [
        {
          "output_type": "stream",
          "name": "stdout",
          "text": [
            "[(0, 'Bob Dylan', 'Mathematics', 2.5),\n",
            " (2, 'Jeremy Pierce', 'Robotics', 2.5),\n",
            " (1, 'James Ryan', 'Computer Science', 2.5)]\n",
            "[(0, 'Bob Dylan', 'Mathematics', 2.1),\n",
            " (2, 'Jeremy Pierce', 'Robotics', 2.5),\n",
            " (1, 'James Ryan', 'Computer Science', 2.5)]\n",
            "[(0, 'Bob Dylan', 'Mathematics', 2.1),\n",
            " (2, 'Jeremy Pierce', 'Robotics', 2.5),\n",
            " (1, 'James Ryan', 'Comp Sci', 2.5)]\n"
          ]
        }
      ]
    },
    {
      "cell_type": "code",
      "metadata": {
        "colab": {
          "base_uri": "https://localhost:8080/"
        },
        "id": "ZA0NOFLkPsts",
        "outputId": "fe172abc-7998-4dfc-afd2-6da14e966ef7"
      },
      "source": [
        "# select with order by\n",
        "c.execute(\"\"\"SELECT * FROM student ORDER BY major;\"\"\")\n",
        "pprint(c.fetchall())\n",
        "conn.commit()\n",
        "\n",
        "# descending student_id\n",
        "c.execute(\"\"\"SELECT * FROM student ORDER BY student_id DESC;\"\"\")\n",
        "pprint(c.fetchall())\n",
        "conn.commit()"
      ],
      "execution_count": null,
      "outputs": [
        {
          "output_type": "stream",
          "name": "stdout",
          "text": [
            "[(1, 'James Ryan', 'Comp Sci', 2.5),\n",
            " (0, 'Bob Dylan', 'Mathematics', 2.1),\n",
            " (2, 'Jeremy Pierce', 'Robotics', 2.5)]\n",
            "[(2, 'Jeremy Pierce', 'Robotics', 2.5),\n",
            " (1, 'James Ryan', 'Comp Sci', 2.5),\n",
            " (0, 'Bob Dylan', 'Mathematics', 2.1)]\n"
          ]
        }
      ]
    },
    {
      "cell_type": "code",
      "metadata": {
        "colab": {
          "base_uri": "https://localhost:8080/"
        },
        "id": "PQQbwwO32gLu",
        "outputId": "0c2c14b1-2b6c-4c97-b522-d09a195f2fd2"
      },
      "source": [
        "# SELECT MIN\n",
        "c.execute(\"\"\"SELECT MIN(gpa) FROM student;\"\"\")\n",
        "print(c.fetchall())\n",
        "\n",
        "# ALIAS\n",
        "c.execute(\"\"\"SELECT MIN(gpa) FROM student AS LowestGPA;\"\"\")\n",
        "print(c.fetchall())\n",
        "\n",
        "# SELECT with aggregation\n",
        "c.execute(\"\"\"SELECT (name), MIN(gpa) FROM student;\"\"\")\n",
        "print(c.fetchall())\n",
        "\n",
        "# Count the students\n",
        "c.execute(\"\"\"SELECT count(student_id) FROM student;\"\"\")\n",
        "print(c.fetchall())\n",
        "\n",
        "# Average GPA\n",
        "c.execute(\"\"\"SELECT AVG(gpa) FROM student;\"\"\")\n",
        "print(c.fetchall())\n"
      ],
      "execution_count": null,
      "outputs": [
        {
          "output_type": "stream",
          "name": "stdout",
          "text": [
            "[(2.1,)]\n",
            "[(2.1,)]\n",
            "[('Bob Dylan', 2.1)]\n",
            "[(3,)]\n",
            "[(2.3666666666666667,)]\n"
          ]
        }
      ]
    },
    {
      "cell_type": "code",
      "metadata": {
        "colab": {
          "base_uri": "https://localhost:8080/"
        },
        "id": "727qs-s-x_4N",
        "outputId": "9a4bc3b3-5f08-41fd-c746-80c1b0524309"
      },
      "source": [
        "# delete\n",
        "c.execute(\"\"\"DELETE FROM student WHERE gpa=2.1;\"\"\")\n",
        "\n",
        "print_table('student', c)\n",
        "conn.commit()"
      ],
      "execution_count": null,
      "outputs": [
        {
          "output_type": "stream",
          "name": "stdout",
          "text": [
            "[(2, 'Jeremy Pierce', 'Robotics', 2.5), (1, 'James Ryan', 'Comp Sci', 2.5)]\n"
          ]
        }
      ]
    },
    {
      "cell_type": "code",
      "metadata": {
        "colab": {
          "base_uri": "https://localhost:8080/"
        },
        "id": "x09XZae9y3cI",
        "outputId": "749d67d5-440a-4cd0-a555-75cb7f40dc2c"
      },
      "source": [
        "import pandas as pd\n",
        "# to dataframe\n",
        "conn = sqlite3.connect('learning_sql.db')\n",
        "\n",
        "df = pd.read_sql_query('SELECT * from student;', conn, )\n",
        "df.head()\n",
        "\n",
        "conn = sqlite3.connect('learning_sql.db')\n",
        "c = conn.cursor()\n",
        "print_table('student', c )\n",
        "conn.close()"
      ],
      "execution_count": null,
      "outputs": [
        {
          "output_type": "stream",
          "name": "stdout",
          "text": [
            "[(2, 'Jeremy Pierce', 'Robotics', 2.5), (1, 'James Ryan', 'Comp Sci', 2.5)]\n"
          ]
        }
      ]
    },
    {
      "cell_type": "code",
      "metadata": {
        "colab": {
          "base_uri": "https://localhost:8080/"
        },
        "id": "YBubtSGVz3_Q",
        "outputId": "90ea572c-19d2-454b-bbbc-ed67e0bc6d4d"
      },
      "source": [
        "# Add a none specialty column and save as table student2\n",
        "conn = sqlite3.connect('learning_sql.db')\n",
        "df['specialty']= None\n",
        "df.to_sql('student2', conn, if_exists='replace')\n",
        "\n",
        "# see new table\n",
        "conn = sqlite3.connect('learning_sql.db')\n",
        "c = conn.cursor()\n",
        "print_table('student2', c)\n",
        "\n",
        "# drop new table\n",
        "c = conn.cursor()\n",
        "c.execute(\"\"\"DROP TABLE student2;\"\"\")\n",
        "conn.commit()\n",
        "conn.close()"
      ],
      "execution_count": null,
      "outputs": [
        {
          "output_type": "stream",
          "name": "stdout",
          "text": [
            "[(0, 2, 'Jeremy Pierce', 'Robotics', 2.5, None),\n",
            " (1, 1, 'James Ryan', 'Comp Sci', 2.5, None)]\n"
          ]
        }
      ]
    },
    {
      "cell_type": "code",
      "metadata": {
        "colab": {
          "base_uri": "https://localhost:8080/",
          "height": 229
        },
        "id": "UH8bne1qM5zb",
        "outputId": "887edf2a-916c-43e6-f746-d47b744ee5b6"
      },
      "source": [
        "# dropping existing student table\n",
        "conn = sqlite3.connect('learning_sql.db')\n",
        "c = conn.cursor()\n",
        "c.execute(\"\"\"DROP TABLE student;\"\"\")\n",
        "conn.commit()\n",
        "\n",
        "# trying to fetch from dropped table -> expecting an error\n",
        "c.execute(\"\"\" SELECT * FROM student;\"\"\")\n",
        "\n",
        "print(c.fetchall())\n",
        "conn.commit()"
      ],
      "execution_count": null,
      "outputs": [
        {
          "output_type": "error",
          "ename": "OperationalError",
          "evalue": "ignored",
          "traceback": [
            "\u001b[0;31m---------------------------------------------------------------------------\u001b[0m",
            "\u001b[0;31mOperationalError\u001b[0m                          Traceback (most recent call last)",
            "\u001b[0;32m<ipython-input-14-7f571ccf5a0b>\u001b[0m in \u001b[0;36m<module>\u001b[0;34m()\u001b[0m\n\u001b[1;32m      6\u001b[0m \u001b[0;34m\u001b[0m\u001b[0m\n\u001b[1;32m      7\u001b[0m \u001b[0;31m# trying to fetch from dropped table -> expecting an error\u001b[0m\u001b[0;34m\u001b[0m\u001b[0;34m\u001b[0m\u001b[0;34m\u001b[0m\u001b[0m\n\u001b[0;32m----> 8\u001b[0;31m \u001b[0mc\u001b[0m\u001b[0;34m.\u001b[0m\u001b[0mexecute\u001b[0m\u001b[0;34m(\u001b[0m\u001b[0;34m\"\"\" SELECT * FROM student;\"\"\"\u001b[0m\u001b[0;34m)\u001b[0m\u001b[0;34m\u001b[0m\u001b[0;34m\u001b[0m\u001b[0m\n\u001b[0m\u001b[1;32m      9\u001b[0m \u001b[0;34m\u001b[0m\u001b[0m\n\u001b[1;32m     10\u001b[0m \u001b[0mprint\u001b[0m\u001b[0;34m(\u001b[0m\u001b[0mc\u001b[0m\u001b[0;34m.\u001b[0m\u001b[0mfetchall\u001b[0m\u001b[0;34m(\u001b[0m\u001b[0;34m)\u001b[0m\u001b[0;34m)\u001b[0m\u001b[0;34m\u001b[0m\u001b[0;34m\u001b[0m\u001b[0m\n",
            "\u001b[0;31mOperationalError\u001b[0m: no such table: student"
          ]
        }
      ]
    }
  ]
}